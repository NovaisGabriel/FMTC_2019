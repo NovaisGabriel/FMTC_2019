{
 "cells": [
  {
   "cell_type": "code",
   "execution_count": 1,
   "metadata": {},
   "outputs": [
    {
     "name": "stderr",
     "output_type": "stream",
     "text": [
      "Using TensorFlow backend.\n"
     ]
    }
   ],
   "source": [
    "import pandas as pd\n",
    "import numpy as np\n",
    "import keras\n",
    "import keras.backend as K"
   ]
  },
  {
   "cell_type": "code",
   "execution_count": 60,
   "metadata": {},
   "outputs": [],
   "source": [
    "dist_train = pd.read_csv('../data/treated/distanciasTrain.csv')"
   ]
  },
  {
   "cell_type": "code",
   "execution_count": 62,
   "metadata": {},
   "outputs": [],
   "source": [
    "dist_val = pd.read_csv('../data/treated/distanciasVal.csv')"
   ]
  },
  {
   "cell_type": "code",
   "execution_count": 63,
   "metadata": {},
   "outputs": [],
   "source": [
    "dist = pd.concat([dist_train, dist_val], axis=0)"
   ]
  },
  {
   "cell_type": "code",
   "execution_count": 64,
   "metadata": {},
   "outputs": [],
   "source": [
    "dist_reshaped = np.reshape(dist.iloc[:,1:].to_numpy(), [450,340,12])"
   ]
  },
  {
   "cell_type": "code",
   "execution_count": 65,
   "metadata": {},
   "outputs": [],
   "source": [
    "dist_split = np.split(dist_reshaped, 340, axis =1)\n",
    "dist_split = np.squeeze(dist_split)"
   ]
  },
  {
   "cell_type": "code",
   "execution_count": 67,
   "metadata": {},
   "outputs": [],
   "source": [
    "y_rep = pd.read_csv('../data/treated/representativos.csv')"
   ]
  },
  {
   "cell_type": "code",
   "execution_count": 68,
   "metadata": {},
   "outputs": [],
   "source": [
    "x_list = [item for item in dist_split]\n",
    "#x_list.append(y_rep[['fmv']].transpose())"
   ]
  },
  {
   "cell_type": "code",
   "execution_count": 69,
   "metadata": {},
   "outputs": [],
   "source": [
    "y_train = pd.read_csv('../data/treated/treino.csv')"
   ]
  },
  {
   "cell_type": "code",
   "execution_count": 31,
   "metadata": {},
   "outputs": [],
   "source": [
    "y_val = pd.read_pickle('../data/treated/valid.pk')"
   ]
  },
  {
   "cell_type": "code",
   "execution_count": 71,
   "metadata": {},
   "outputs": [],
   "source": [
    "y_train = pd.concat([y_train,y_val], axis = 0)"
   ]
  },
  {
   "cell_type": "code",
   "execution_count": 11,
   "metadata": {},
   "outputs": [],
   "source": [
    "#inp_y_rep_vas = keras.layers.Input(shape=(340,))"
   ]
  },
  {
   "cell_type": "code",
   "execution_count": 148,
   "metadata": {},
   "outputs": [],
   "source": [
    "dens_layers = list()\n",
    "inps_layers = list()\n",
    "#inp = keras.layers.Input(shape=(14,))\n",
    "for i in range(340):\n",
    "    inps_layers.append(keras.layers.Input(shape=(12,)))\n",
    "    dens_layers.append(keras.layers.Dense(1, activation=K.exp)(inps_layers[-1]))"
   ]
  },
  {
   "cell_type": "code",
   "execution_count": 73,
   "metadata": {},
   "outputs": [],
   "source": [
    "e = 2.7182818284590452353602874713527\n",
    "lambda_layers = list()\n",
    "#inp = keras.layers.Input(shape=(14,))\n",
    "#dens = keras.layers.Dense(1)(inp)\n",
    "for i in range(340):\n",
    "    lambda_layers.append(keras.layers.Lambda(lambda x: e**x)(dens_layers[i]))"
   ]
  },
  {
   "cell_type": "code",
   "execution_count": 150,
   "metadata": {},
   "outputs": [],
   "source": [
    "#exp_sum = keras.layers.add(lambda_layers)\n",
    "exp_sum = keras.layers.add(dens_layers)"
   ]
  },
  {
   "cell_type": "code",
   "execution_count": 151,
   "metadata": {},
   "outputs": [],
   "source": [
    "inverse = keras.layers.Lambda(lambda x: 1/x)(exp_sum)"
   ]
  },
  {
   "cell_type": "code",
   "execution_count": 156,
   "metadata": {},
   "outputs": [],
   "source": [
    "concat = keras.layers.Concatenate()(dens_layers)"
   ]
  },
  {
   "cell_type": "code",
   "execution_count": 157,
   "metadata": {},
   "outputs": [],
   "source": [
    "mult = keras.layers.multiply([concat, inverse])"
   ]
  },
  {
   "cell_type": "code",
   "execution_count": 159,
   "metadata": {},
   "outputs": [],
   "source": [
    "numpy_y_rep_fmv = np.array(y_rep[['fmv']])/1000\n",
    "#numpy_y_rep_fmv = (numpy_y_rep_fmv - np.mean(numpy_y_rep_fmv))/np.std(numpy_y_rep_fmv)\n",
    "\n",
    "def dotprod_y_rep(x):\n",
    "    y_rep_fmv = K.variable(numpy_y_rep_fmv)\n",
    "\n",
    "    return K.dot(x,y_rep_fmv)\n",
    "\n",
    "dot_prod = keras.layers.Lambda(dotprod_y_rep)(mult)"
   ]
  },
  {
   "cell_type": "code",
   "execution_count": 160,
   "metadata": {},
   "outputs": [],
   "source": [
    "model = keras.Model(inputs= inps_layers, outputs = dot_prod)"
   ]
  },
  {
   "cell_type": "code",
   "execution_count": 161,
   "metadata": {},
   "outputs": [],
   "source": [
    "model.compile(optimizer = 'sgd', loss = 'mean_squared_error')"
   ]
  },
  {
   "cell_type": "code",
   "execution_count": 162,
   "metadata": {},
   "outputs": [],
   "source": [
    "y_train_np = np.array(y_train[['fmv']])\n",
    "n_train = int(0.4*len(y_train_np))\n",
    "mu = np.mean(y_train_np[0:n_train])\n",
    "sigma = np.std(y_train_np[0:n_train])\n",
    "y_train_norm = (y_train_np- mu)/sigma"
   ]
  },
  {
   "cell_type": "code",
   "execution_count": 163,
   "metadata": {},
   "outputs": [
    {
     "name": "stdout",
     "output_type": "stream",
     "text": [
      "Train on 315 samples, validate on 135 samples\n",
      "Epoch 1/1\n",
      "315/315 [==============================] - 139s 441ms/step - loss: 24217.4781 - val_loss: 23580.3583\n"
     ]
    }
   ],
   "source": [
    "fit = model.fit(x_list, y_train_np/1000, validation_split= 0.3, batch_size=20)"
   ]
  },
  {
   "cell_type": "code",
   "execution_count": null,
   "metadata": {},
   "outputs": [],
   "source": [
    "# Estimating matrix of coefficients C\n",
    "def function_to_min(a, x, basis_funcs):\n",
    "  return(x - np.dot(a,basis_funcs))\n",
    "\n",
    "def estimate_C(centered_data, legendre_basis):\n",
    "  C = list()\n",
    "  for i in range(centered_data.shape[0]):\n",
    "    c = so.least_squares(function_to_min, x0 = np.ones(legendre_basis.shape[0]), \n",
    "                         args = (np.transpose(centered_data.iloc[i,:-1]), \n",
    "                                 legendre_basis))[\"x\"]\n",
    "    C.append(c)\n",
    "  return(pd.DataFrame(C))"
   ]
  },
  {
   "cell_type": "code",
   "execution_count": 164,
   "metadata": {},
   "outputs": [],
   "source": [
    "from scipy.optimize import minimize"
   ]
  },
  {
   "cell_type": "code",
   "execution_count": 165,
   "metadata": {},
   "outputs": [],
   "source": [
    "# include 1 in fs\n",
    "# define before: f matrix, y vector of rep vas\n",
    "def fun_to_min(w, f, y_rep, y):\n",
    "    vec = np.array([])\n",
    "    for i in f.shape[0]:\n",
    "        vec[i] = np.exp(np.dot(w[],f[i,:]))\n",
    "    denom = sum(vec)\n",
    "    vec = vec/denom\n",
    "    y_hat = np.dot(vec, y_rep)\n",
    "    return((y_hat-y)/2*B)"
   ]
  },
  {
   "cell_type": "code",
   "execution_count": null,
   "metadata": {},
   "outputs": [],
   "source": [
    "# include 1 in fs\n",
    "# define before: f matrix, y vector of rep vas\n",
    "def fun_to_min(w, f, y_rep, y):\n",
    "    vec = np.zeros([500,340])\n",
    "    for i in f.shape[0]:\n",
    "        for j in f.shape[1]:\n",
    "            vec[i,j] = np.exp(np.dot(w[],f[j,:]))\n",
    "        denom = sum(vec)\n",
    "        vec = vec/denom\n",
    "        y_hat = np.dot(vec, y_rep)\n",
    "    return((y_hat-y)/2*B)"
   ]
  }
 ],
 "metadata": {
  "kernelspec": {
   "display_name": "Python 3",
   "language": "python",
   "name": "python3"
  },
  "language_info": {
   "codemirror_mode": {
    "name": "ipython",
    "version": 3
   },
   "file_extension": ".py",
   "mimetype": "text/x-python",
   "name": "python",
   "nbconvert_exporter": "python",
   "pygments_lexer": "ipython3",
   "version": "3.6.6"
  }
 },
 "nbformat": 4,
 "nbformat_minor": 2
}
