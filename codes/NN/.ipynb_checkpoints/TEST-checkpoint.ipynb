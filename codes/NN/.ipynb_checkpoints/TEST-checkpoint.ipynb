{
 "cells": [
  {
   "cell_type": "markdown",
   "metadata": {},
   "source": [
    "# FMTC2019 - Neural Networks - Variable Annuities\n",
    "\n",
    "#### paper : https://arxiv.org/pdf/1606.07831"
   ]
  },
  {
   "cell_type": "markdown",
   "metadata": {},
   "source": [
    "### Importing Packages "
   ]
  },
  {
   "cell_type": "code",
   "execution_count": 1,
   "metadata": {},
   "outputs": [
    {
     "name": "stderr",
     "output_type": "stream",
     "text": [
      "Using TensorFlow backend.\n"
     ]
    }
   ],
   "source": [
    "import pandas as pd\n",
    "import numpy as np\n",
    "import matplotlib.pyplot as plt\n",
    "import keras \n",
    "import tensorflow\n",
    "import theano\n",
    "import sys\n",
    "import itertools\n",
    "\n",
    "from sklearn.model_selection import train_test_split,cross_val_score,GridSearchCV\n",
    "from sklearn.preprocessing import StandardScaler,LabelEncoder,OneHotEncoder\n",
    "from sklearn.metrics import confusion_matrix\n",
    "from keras.models import Sequential\n",
    "from keras.layers import Dense,Flatten\n",
    "from keras.wrappers.scikit_learn import KerasRegressor\n",
    "from keras.layers import Dropout\n",
    "from sklearn.ensemble import RandomForestRegressor\n",
    "from sklearn.datasets import make_regression\n"
   ]
  },
  {
   "cell_type": "markdown",
   "metadata": {},
   "source": [
    "### Importing Data"
   ]
  },
  {
   "cell_type": "code",
   "execution_count": 77,
   "metadata": {},
   "outputs": [],
   "source": [
    "# We will use two databases selected by K-means.\n",
    "# Dimension of sample1.csv = 340 observations (rep_contracts).\n",
    "# Dimension of sample2.csv = 680 observations (train_contracts).\n",
    "# sample2 will be our data that will be splitted up into train, test and validation data.\n",
    "# sample1 will be our representative contracts.\n",
    "\n",
    "# Importing:\n",
    "rep_contracts = pd.read_csv(\"sample1.csv\")\n",
    "train_contracts = pd.read_csv(\"sample2.csv\")\n",
    "\n",
    "# First Cleaning\n",
    "rep_contracts = rep_contracts.iloc[:,2:]\n",
    "train_contracts = train_contracts.iloc[:,2:]"
   ]
  },
  {
   "cell_type": "code",
   "execution_count": 78,
   "metadata": {},
   "outputs": [],
   "source": [
    "# Importing all contracts:\n",
    "all_contracts = pd.read_csv(\"inforce2.csv\")\n",
    "# First Cleaning\n",
    "all_contracts = all_contracts.iloc[:,2:]"
   ]
  },
  {
   "cell_type": "markdown",
   "metadata": {},
   "source": [
    "### Auxiliary Functions"
   ]
  },
  {
   "cell_type": "code",
   "execution_count": 79,
   "metadata": {},
   "outputs": [],
   "source": [
    "# Function that cleans Data:\n",
    "\n",
    "def cleaningData(x):\n",
    "    \n",
    "    # Building Account Value (AV) variable \n",
    "    x['AV'] = x[['FundValue' + str(i) for i in np.arange(1, 11, 1)]].sum(axis=1)\n",
    "\n",
    "    \n",
    "    # Filtering only importants variables\n",
    "    x = x[['gender','productType','ttm','age', 'AV','gbAmt','withdrawal','wbWithdrawalRate','fmv']]\n",
    "    \n",
    "    # Selecting only two categories\n",
    "\n",
    "    # TRASH:\n",
    "    x.loc[:, 'productType'] = [\"trash\" if value in ['ABRP','ABRU','ABSU','IBRP','IBRU','IBSU','MBRP','MBRU','MBSU','DBAB','DBIB','DBMB','DBWB'] else value for value in list(x.productType)]\n",
    "\n",
    "    # GMDB:\n",
    "    x.loc[:, 'productType'] = [\"GMDB\" if value in ['DBRP','DBRU','DBSU'] else value for value in list(x.productType)]\n",
    "\n",
    "    # GMWB:\n",
    "    x.loc[:, 'productType'] = [\"GMWB\" if value in ['WBRP','WBRU','WBSU'] else value for value in list(x.productType)]\n",
    "    \n",
    "    # Building variables:\n",
    "    x.withdrawal = x.withdrawal/x.AV\n",
    "    x.gbAmt = x.gbAmt/x.AV\n",
    "    \n",
    "    # Categories into numbers:\n",
    "    auxiliar_data = pd.DataFrame(x[::])\n",
    "    auxiliar_data['male'] = [1 if value == 'M' else 0 for value in auxiliar_data.gender]\n",
    "    auxiliar_data['GMDB'] = [1 if value == 'GMDB' else 0 for value in auxiliar_data.productType]\n",
    "    auxiliar_data['GMWB'] = [1 if value == 'GMWB' else 0 for value in auxiliar_data.productType]\n",
    "\n",
    "    # Dropping old category variables:\n",
    "    auxiliar_data = auxiliar_data.drop(['gender', 'productType'], axis=1)\n",
    "\n",
    "    # Dropping Acount Value == 0:\n",
    "    auxiliar_data = auxiliar_data[auxiliar_data.AV != 0]\n",
    "    \n",
    "    y = pd.DataFrame(auxiliar_data['fmv'])\n",
    "    x = auxiliar_data.drop(['fmv'], axis = 1)\n",
    "    \n",
    "    return [x,y]"
   ]
  },
  {
   "cell_type": "code",
   "execution_count": 80,
   "metadata": {},
   "outputs": [],
   "source": [
    "# Standard Function:\n",
    "def standardNow(df):\n",
    "    m = []\n",
    "    s = []\n",
    "    dfaux = pd.DataFrame(np.array(df))\n",
    "    for i in range(0,dfaux.shape[1]):\n",
    "        mean = dfaux.iloc[:,i].mean()\n",
    "        std = dfaux.iloc[:,i].std()\n",
    "        dfaux.iloc[:,i] = (dfaux.iloc[:,i]-mean)/std\n",
    "        m.append(mean)\n",
    "        s.append(std)\n",
    "    return [dfaux,m,s]"
   ]
  },
  {
   "cell_type": "code",
   "execution_count": 81,
   "metadata": {},
   "outputs": [],
   "source": [
    "def RFR(x_train,y_train,x_test,y_test,NE,RE):\n",
    "    # Train\n",
    "    xtrain = np.array(standardNow(x_train)[0])\n",
    "    ytrain = np.array(standardNow(y_train)[0])\n",
    "    # Test:\n",
    "    xtest = np.array(standardNow(x_test)[0])\n",
    "    ytest = np.array(standardNow(y_test)[0])\n",
    "    #initialize:\n",
    "    rfr = RandomForestRegressor(n_estimators = NE, random_state = RE)\n",
    "    rfr.fit(xtrain, ytrain)\n",
    "    # Use the forest's predict method on the test data\n",
    "    predictions = rfr.predict(xtest)\n",
    "    predictions = np.array([predictions]).T\n",
    "    # Calculate the absolute errors\n",
    "    errors = abs(predictions - ytest)\n",
    "    errors = round(np.mean(errors), 2)\n",
    "    # Calculate mean absolute percentage error (MAPE)\n",
    "    mape = 100 * (errors / ytest)\n",
    "    return [errors,mape]"
   ]
  },
  {
   "cell_type": "code",
   "execution_count": 128,
   "metadata": {},
   "outputs": [],
   "source": [
    "def extrapol(x_train,y_train,x_test,y_test,NE,RE,xall,yall):\n",
    "    xall = np.array(xall)\n",
    "    yall = np.array(yall)\n",
    "    # Train\n",
    "    xtrain = np.array(standardNow(x_train)[0])\n",
    "    ytrain = np.array(standardNow(y_train)[0])\n",
    "    # Test:\n",
    "    xtest = np.array(standardNow(x_test)[0])\n",
    "    ytest = np.array(standardNow(y_test)[0])\n",
    "    # Metrics\n",
    "    xmean = standardNow(xall)[1]\n",
    "    xstd = standardNow(xall)[2]\n",
    "    ymean = standardNow(y_train)[1]\n",
    "    ystd = standardNow(y_train)[2]\n",
    "    xall = (xall-xmean)/xstd\n",
    "    #initialize:\n",
    "    rfr = RandomForestRegressor(n_estimators = NE, random_state = RE)\n",
    "    rfr.fit(xtrain, ytrain)\n",
    "    # Use the forest's predict method on the test data\n",
    "    predictions = rfr.predict(xall)\n",
    "    predictions = np.array([predictions]).T\n",
    "    predictions = (predictions*ystd)+ymean\n",
    "    # Calculate the absolute errors\n",
    "    errorsMAE = round(np.mean(abs(yall - predictions)), 2)\n",
    "    errorsR2 = 1 - (sum(np.power((yall - predictions),2))/np.power(sum(yall-ymean),2))\n",
    "    errorsPE = abs(yall - predictions)/yall\n",
    "    #errors = round(np.mean(errors), 2)\n",
    "    return [print('MAE: '+str(errorsMAE)), print('R2: '+str(errorsR2)),print('PE: '+str(errorsPE))]"
   ]
  },
  {
   "cell_type": "code",
   "execution_count": 118,
   "metadata": {},
   "outputs": [
    {
     "data": {
      "text/plain": [
       "array([1, 4, 9])"
      ]
     },
     "execution_count": 118,
     "metadata": {},
     "output_type": "execute_result"
    }
   ],
   "source": [
    "a = np.array([1,2,3])\n",
    "b = np.array([2,3,4])\n",
    "a-b\n",
    "np.power(a,2)\n"
   ]
  },
  {
   "cell_type": "markdown",
   "metadata": {},
   "source": [
    "### Data "
   ]
  },
  {
   "cell_type": "code",
   "execution_count": 94,
   "metadata": {},
   "outputs": [
    {
     "name": "stderr",
     "output_type": "stream",
     "text": [
      "/home/novais/anaconda3/lib/python3.7/site-packages/pandas/core/indexing.py:543: SettingWithCopyWarning: \n",
      "A value is trying to be set on a copy of a slice from a DataFrame.\n",
      "Try using .loc[row_indexer,col_indexer] = value instead\n",
      "\n",
      "See the caveats in the documentation: http://pandas.pydata.org/pandas-docs/stable/indexing.html#indexing-view-versus-copy\n",
      "  self.obj[item] = s\n",
      "/home/novais/anaconda3/lib/python3.7/site-packages/pandas/core/generic.py:4405: SettingWithCopyWarning: \n",
      "A value is trying to be set on a copy of a slice from a DataFrame.\n",
      "Try using .loc[row_indexer,col_indexer] = value instead\n",
      "\n",
      "See the caveats in the documentation: http://pandas.pydata.org/pandas-docs/stable/indexing.html#indexing-view-versus-copy\n",
      "  self[name] = value\n"
     ]
    }
   ],
   "source": [
    "# Cleaning Data:\n",
    "rep = cleaningData(rep_contracts)\n",
    "train = cleaningData(train_contracts)\n",
    "allC = cleaningData(all_contracts)"
   ]
  },
  {
   "cell_type": "markdown",
   "metadata": {},
   "source": [
    "### Random Forest"
   ]
  },
  {
   "cell_type": "code",
   "execution_count": 95,
   "metadata": {},
   "outputs": [],
   "source": [
    "# Cleaning Data:\n",
    "rep = cleaningData(rep_contracts)\n",
    "train = cleaningData(train_contracts)\n",
    "# Splitting Data\n",
    "x_train, x_test, y_train, y_test = train_test_split(train[0],train[1],test_size=0.20,random_state=0)\n",
    "# Saving feature names for later use\n",
    "cols = list(train[0].columns)"
   ]
  },
  {
   "cell_type": "code",
   "execution_count": 96,
   "metadata": {},
   "outputs": [
    {
     "name": "stdout",
     "output_type": "stream",
     "text": [
      "y test shape: (136, 1)\n",
      "y train shape: (540, 1)\n",
      "x test shape: (136, 9)\n",
      "x train shape: (540, 9)\n"
     ]
    }
   ],
   "source": [
    "# Shapes:\n",
    "print('y test shape: ' + str(y_test.shape))\n",
    "print('y train shape: ' + str(y_train.shape))\n",
    "print('x test shape: ' + str(x_test.shape))\n",
    "print('x train shape: ' + str(x_train.shape))"
   ]
  },
  {
   "cell_type": "code",
   "execution_count": 97,
   "metadata": {},
   "outputs": [
    {
     "name": "stderr",
     "output_type": "stream",
     "text": [
      "/home/novais/anaconda3/lib/python3.7/site-packages/ipykernel_launcher.py:10: DataConversionWarning: A column-vector y was passed when a 1d array was expected. Please change the shape of y to (n_samples,), for example using ravel().\n",
      "  # Remove the CWD from sys.path while we load stuff.\n"
     ]
    },
    {
     "data": {
      "text/plain": [
       "0.26"
      ]
     },
     "execution_count": 97,
     "metadata": {},
     "output_type": "execute_result"
    }
   ],
   "source": [
    "RFR(x_train,y_train,x_test,y_test,10,0)[0]"
   ]
  },
  {
   "cell_type": "markdown",
   "metadata": {},
   "source": [
    "### Extrapolation "
   ]
  },
  {
   "cell_type": "code",
   "execution_count": 98,
   "metadata": {},
   "outputs": [],
   "source": [
    "xall = allC[0]\n",
    "yall = allC[1]"
   ]
  },
  {
   "cell_type": "code",
   "execution_count": 129,
   "metadata": {},
   "outputs": [
    {
     "name": "stderr",
     "output_type": "stream",
     "text": [
      "/home/novais/anaconda3/lib/python3.7/site-packages/ipykernel_launcher.py:18: DataConversionWarning: A column-vector y was passed when a 1d array was expected. Please change the shape of y to (n_samples,), for example using ravel().\n"
     ]
    },
    {
     "name": "stdout",
     "output_type": "stream",
     "text": [
      "MAE: 102018.19\n",
      "R2: [0.9999783]\n",
      "PE: [[ 0.99999526]\n",
      " [-1.00008616]\n",
      " [-1.000091  ]\n",
      " ...\n",
      " [ 0.99999951]\n",
      " [ 0.9999895 ]\n",
      " [ 1.00000262]]\n"
     ]
    },
    {
     "data": {
      "text/plain": [
       "[None, None, None]"
      ]
     },
     "execution_count": 129,
     "metadata": {},
     "output_type": "execute_result"
    }
   ],
   "source": [
    "extrapol(xtrain,ytrain,xtest,ytest,10,0,xall,yall)"
   ]
  },
  {
   "cell_type": "code",
   "execution_count": 104,
   "metadata": {},
   "outputs": [
    {
     "data": {
      "text/html": [
       "<div>\n",
       "<style scoped>\n",
       "    .dataframe tbody tr th:only-of-type {\n",
       "        vertical-align: middle;\n",
       "    }\n",
       "\n",
       "    .dataframe tbody tr th {\n",
       "        vertical-align: top;\n",
       "    }\n",
       "\n",
       "    .dataframe thead th {\n",
       "        text-align: right;\n",
       "    }\n",
       "</style>\n",
       "<table border=\"1\" class=\"dataframe\">\n",
       "  <thead>\n",
       "    <tr style=\"text-align: right;\">\n",
       "      <th></th>\n",
       "      <th>fmv</th>\n",
       "    </tr>\n",
       "  </thead>\n",
       "  <tbody>\n",
       "    <tr>\n",
       "      <th>0</th>\n",
       "      <td>16763.294834</td>\n",
       "    </tr>\n",
       "    <tr>\n",
       "      <th>1</th>\n",
       "      <td>-4803.217415</td>\n",
       "    </tr>\n",
       "    <tr>\n",
       "      <th>2</th>\n",
       "      <td>-36038.487254</td>\n",
       "    </tr>\n",
       "    <tr>\n",
       "      <th>3</th>\n",
       "      <td>45419.126711</td>\n",
       "    </tr>\n",
       "    <tr>\n",
       "      <th>4</th>\n",
       "      <td>97013.359907</td>\n",
       "    </tr>\n",
       "    <tr>\n",
       "      <th>5</th>\n",
       "      <td>-1736.302447</td>\n",
       "    </tr>\n",
       "    <tr>\n",
       "      <th>6</th>\n",
       "      <td>-4342.756002</td>\n",
       "    </tr>\n",
       "    <tr>\n",
       "      <th>7</th>\n",
       "      <td>81436.272913</td>\n",
       "    </tr>\n",
       "    <tr>\n",
       "      <th>8</th>\n",
       "      <td>6466.021499</td>\n",
       "    </tr>\n",
       "    <tr>\n",
       "      <th>9</th>\n",
       "      <td>-4604.842590</td>\n",
       "    </tr>\n",
       "    <tr>\n",
       "      <th>10</th>\n",
       "      <td>38037.425494</td>\n",
       "    </tr>\n",
       "    <tr>\n",
       "      <th>11</th>\n",
       "      <td>-2795.094317</td>\n",
       "    </tr>\n",
       "    <tr>\n",
       "      <th>12</th>\n",
       "      <td>48436.410605</td>\n",
       "    </tr>\n",
       "    <tr>\n",
       "      <th>13</th>\n",
       "      <td>817.951927</td>\n",
       "    </tr>\n",
       "    <tr>\n",
       "      <th>14</th>\n",
       "      <td>41979.334783</td>\n",
       "    </tr>\n",
       "    <tr>\n",
       "      <th>15</th>\n",
       "      <td>26810.154837</td>\n",
       "    </tr>\n",
       "    <tr>\n",
       "      <th>16</th>\n",
       "      <td>-5176.240671</td>\n",
       "    </tr>\n",
       "    <tr>\n",
       "      <th>17</th>\n",
       "      <td>-3765.325006</td>\n",
       "    </tr>\n",
       "    <tr>\n",
       "      <th>18</th>\n",
       "      <td>19740.970086</td>\n",
       "    </tr>\n",
       "    <tr>\n",
       "      <th>19</th>\n",
       "      <td>-3408.152593</td>\n",
       "    </tr>\n",
       "    <tr>\n",
       "      <th>20</th>\n",
       "      <td>105287.243214</td>\n",
       "    </tr>\n",
       "    <tr>\n",
       "      <th>21</th>\n",
       "      <td>24863.848698</td>\n",
       "    </tr>\n",
       "    <tr>\n",
       "      <th>22</th>\n",
       "      <td>4525.202136</td>\n",
       "    </tr>\n",
       "    <tr>\n",
       "      <th>23</th>\n",
       "      <td>25988.671116</td>\n",
       "    </tr>\n",
       "    <tr>\n",
       "      <th>24</th>\n",
       "      <td>8873.532374</td>\n",
       "    </tr>\n",
       "    <tr>\n",
       "      <th>25</th>\n",
       "      <td>39711.823404</td>\n",
       "    </tr>\n",
       "    <tr>\n",
       "      <th>26</th>\n",
       "      <td>4759.753320</td>\n",
       "    </tr>\n",
       "    <tr>\n",
       "      <th>27</th>\n",
       "      <td>-2750.249349</td>\n",
       "    </tr>\n",
       "    <tr>\n",
       "      <th>28</th>\n",
       "      <td>19576.378575</td>\n",
       "    </tr>\n",
       "    <tr>\n",
       "      <th>29</th>\n",
       "      <td>2565.445379</td>\n",
       "    </tr>\n",
       "    <tr>\n",
       "      <th>...</th>\n",
       "      <td>...</td>\n",
       "    </tr>\n",
       "    <tr>\n",
       "      <th>189970</th>\n",
       "      <td>59941.704401</td>\n",
       "    </tr>\n",
       "    <tr>\n",
       "      <th>189971</th>\n",
       "      <td>136752.394833</td>\n",
       "    </tr>\n",
       "    <tr>\n",
       "      <th>189972</th>\n",
       "      <td>225444.550498</td>\n",
       "    </tr>\n",
       "    <tr>\n",
       "      <th>189973</th>\n",
       "      <td>58718.314276</td>\n",
       "    </tr>\n",
       "    <tr>\n",
       "      <th>189974</th>\n",
       "      <td>185030.802000</td>\n",
       "    </tr>\n",
       "    <tr>\n",
       "      <th>189975</th>\n",
       "      <td>73742.034957</td>\n",
       "    </tr>\n",
       "    <tr>\n",
       "      <th>189976</th>\n",
       "      <td>221219.685290</td>\n",
       "    </tr>\n",
       "    <tr>\n",
       "      <th>189977</th>\n",
       "      <td>122253.864124</td>\n",
       "    </tr>\n",
       "    <tr>\n",
       "      <th>189978</th>\n",
       "      <td>138892.052684</td>\n",
       "    </tr>\n",
       "    <tr>\n",
       "      <th>189979</th>\n",
       "      <td>34698.648511</td>\n",
       "    </tr>\n",
       "    <tr>\n",
       "      <th>189980</th>\n",
       "      <td>115515.331640</td>\n",
       "    </tr>\n",
       "    <tr>\n",
       "      <th>189981</th>\n",
       "      <td>97002.247947</td>\n",
       "    </tr>\n",
       "    <tr>\n",
       "      <th>189982</th>\n",
       "      <td>94700.722560</td>\n",
       "    </tr>\n",
       "    <tr>\n",
       "      <th>189983</th>\n",
       "      <td>202648.770383</td>\n",
       "    </tr>\n",
       "    <tr>\n",
       "      <th>189984</th>\n",
       "      <td>157579.527389</td>\n",
       "    </tr>\n",
       "    <tr>\n",
       "      <th>189985</th>\n",
       "      <td>100669.092659</td>\n",
       "    </tr>\n",
       "    <tr>\n",
       "      <th>189986</th>\n",
       "      <td>51908.090415</td>\n",
       "    </tr>\n",
       "    <tr>\n",
       "      <th>189987</th>\n",
       "      <td>97330.953504</td>\n",
       "    </tr>\n",
       "    <tr>\n",
       "      <th>189988</th>\n",
       "      <td>159808.101985</td>\n",
       "    </tr>\n",
       "    <tr>\n",
       "      <th>189989</th>\n",
       "      <td>179490.100231</td>\n",
       "    </tr>\n",
       "    <tr>\n",
       "      <th>189990</th>\n",
       "      <td>17114.181482</td>\n",
       "    </tr>\n",
       "    <tr>\n",
       "      <th>189991</th>\n",
       "      <td>75375.184392</td>\n",
       "    </tr>\n",
       "    <tr>\n",
       "      <th>189992</th>\n",
       "      <td>233224.516740</td>\n",
       "    </tr>\n",
       "    <tr>\n",
       "      <th>189993</th>\n",
       "      <td>191449.926836</td>\n",
       "    </tr>\n",
       "    <tr>\n",
       "      <th>189994</th>\n",
       "      <td>145262.350476</td>\n",
       "    </tr>\n",
       "    <tr>\n",
       "      <th>189995</th>\n",
       "      <td>75503.909306</td>\n",
       "    </tr>\n",
       "    <tr>\n",
       "      <th>189996</th>\n",
       "      <td>62494.600656</td>\n",
       "    </tr>\n",
       "    <tr>\n",
       "      <th>189997</th>\n",
       "      <td>73888.101876</td>\n",
       "    </tr>\n",
       "    <tr>\n",
       "      <th>189998</th>\n",
       "      <td>171512.773620</td>\n",
       "    </tr>\n",
       "    <tr>\n",
       "      <th>189999</th>\n",
       "      <td>74899.083056</td>\n",
       "    </tr>\n",
       "  </tbody>\n",
       "</table>\n",
       "<p>185899 rows × 1 columns</p>\n",
       "</div>"
      ],
      "text/plain": [
       "                  fmv\n",
       "0        16763.294834\n",
       "1        -4803.217415\n",
       "2       -36038.487254\n",
       "3        45419.126711\n",
       "4        97013.359907\n",
       "5        -1736.302447\n",
       "6        -4342.756002\n",
       "7        81436.272913\n",
       "8         6466.021499\n",
       "9        -4604.842590\n",
       "10       38037.425494\n",
       "11       -2795.094317\n",
       "12       48436.410605\n",
       "13         817.951927\n",
       "14       41979.334783\n",
       "15       26810.154837\n",
       "16       -5176.240671\n",
       "17       -3765.325006\n",
       "18       19740.970086\n",
       "19       -3408.152593\n",
       "20      105287.243214\n",
       "21       24863.848698\n",
       "22        4525.202136\n",
       "23       25988.671116\n",
       "24        8873.532374\n",
       "25       39711.823404\n",
       "26        4759.753320\n",
       "27       -2750.249349\n",
       "28       19576.378575\n",
       "29        2565.445379\n",
       "...               ...\n",
       "189970   59941.704401\n",
       "189971  136752.394833\n",
       "189972  225444.550498\n",
       "189973   58718.314276\n",
       "189974  185030.802000\n",
       "189975   73742.034957\n",
       "189976  221219.685290\n",
       "189977  122253.864124\n",
       "189978  138892.052684\n",
       "189979   34698.648511\n",
       "189980  115515.331640\n",
       "189981   97002.247947\n",
       "189982   94700.722560\n",
       "189983  202648.770383\n",
       "189984  157579.527389\n",
       "189985  100669.092659\n",
       "189986   51908.090415\n",
       "189987   97330.953504\n",
       "189988  159808.101985\n",
       "189989  179490.100231\n",
       "189990   17114.181482\n",
       "189991   75375.184392\n",
       "189992  233224.516740\n",
       "189993  191449.926836\n",
       "189994  145262.350476\n",
       "189995   75503.909306\n",
       "189996   62494.600656\n",
       "189997   73888.101876\n",
       "189998  171512.773620\n",
       "189999   74899.083056\n",
       "\n",
       "[185899 rows x 1 columns]"
      ]
     },
     "execution_count": 104,
     "metadata": {},
     "output_type": "execute_result"
    }
   ],
   "source": [
    "yall"
   ]
  },
  {
   "cell_type": "code",
   "execution_count": 164,
   "metadata": {},
   "outputs": [
    {
     "name": "stdout",
     "output_type": "stream",
     "text": [
      "Variable: ttm                  Importance: 1.0\n"
     ]
    }
   ],
   "source": [
    "# Get numerical feature importances\n",
    "importances = list(rf.feature_importances_)\n",
    "# List of tuples with variable and importance\n",
    "feature_importances = [(feature, round(importance, 2)) for feature, importance in zip(feature_list, importances)]\n",
    "# Sort the feature importances by most important first\n",
    "feature_importances = sorted(feature_importances, key = lambda x: x[1], reverse = True)\n",
    "# Print out the feature and importances \n",
    "[print('Variable: {:20} Importance: {}'.format(*pair)) for pair in feature_importances];"
   ]
  },
  {
   "cell_type": "code",
   "execution_count": null,
   "metadata": {},
   "outputs": [],
   "source": []
  },
  {
   "cell_type": "code",
   "execution_count": null,
   "metadata": {},
   "outputs": [],
   "source": []
  }
 ],
 "metadata": {
  "kernelspec": {
   "display_name": "Python 3",
   "language": "python",
   "name": "python3"
  },
  "language_info": {
   "codemirror_mode": {
    "name": "ipython",
    "version": 3
   },
   "file_extension": ".py",
   "mimetype": "text/x-python",
   "name": "python",
   "nbconvert_exporter": "python",
   "pygments_lexer": "ipython3",
   "version": "3.7.3"
  }
 },
 "nbformat": 4,
 "nbformat_minor": 2
}
