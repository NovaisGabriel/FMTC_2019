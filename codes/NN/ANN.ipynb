{
 "cells": [
  {
   "cell_type": "markdown",
   "metadata": {},
   "source": [
    "# FMTC2019 - Neural Networks - Variable Annuities\n",
    "\n",
    "#### paper : https://arxiv.org/pdf/1606.07831"
   ]
  },
  {
   "cell_type": "markdown",
   "metadata": {},
   "source": [
    "### Importing Packages "
   ]
  },
  {
   "cell_type": "code",
   "execution_count": 2,
   "metadata": {},
   "outputs": [
    {
     "name": "stderr",
     "output_type": "stream",
     "text": [
      "Using TensorFlow backend.\n"
     ]
    }
   ],
   "source": [
    "import pandas as pd\n",
    "import numpy as np\n",
    "import matplotlib.pyplot as plt\n",
    "import keras \n",
    "import tensorflow\n",
    "import theano\n",
    "import sys\n",
    "import itertools\n",
    "\n",
    "from sklearn.model_selection import train_test_split,cross_val_score,GridSearchCV\n",
    "from sklearn.preprocessing import StandardScaler,LabelEncoder,OneHotEncoder\n",
    "from sklearn.metrics import confusion_matrix\n",
    "from keras.models import Sequential\n",
    "from keras.layers import Dense,Flatten\n",
    "from keras.wrappers.scikit_learn import KerasRegressor\n",
    "from keras.layers import Dropout\n",
    "from sklearn.ensemble import RandomForestRegressor\n",
    "from sklearn.datasets import make_regression\n"
   ]
  },
  {
   "cell_type": "markdown",
   "metadata": {},
   "source": [
    "### Importing Data"
   ]
  },
  {
   "cell_type": "code",
   "execution_count": 153,
   "metadata": {},
   "outputs": [],
   "source": [
    "# We will use two databases selected by K-means.\n",
    "# Dimension of sample1.csv = 340 observations (rep_contracts).\n",
    "# Dimension of sample2.csv = 680 observations (train_contracts).\n",
    "# sample2 will be our data that will be splitted up into train, test and validation data.\n",
    "# sample1 will be our representative contracts.\n",
    "\n",
    "# Importing:\n",
    "rep_contracts = pd.read_csv(\"x2.csv\")\n",
    "train_contracts = pd.read_csv(\"x1.csv\")\n",
    "\n",
    "# First Cleaning\n",
    "rep_contracts = rep_contracts.iloc[:,2:]\n",
    "train_contracts = train_contracts.iloc[:,2:]"
   ]
  },
  {
   "cell_type": "code",
   "execution_count": 154,
   "metadata": {},
   "outputs": [],
   "source": [
    "# Importing all contracts:\n",
    "all_contracts = pd.read_csv(\"inforce2.csv\")\n",
    "# First Cleaning\n",
    "all_contracts = all_contracts.iloc[:,2:]"
   ]
  },
  {
   "cell_type": "code",
   "execution_count": 155,
   "metadata": {},
   "outputs": [],
   "source": [
    "aux = pd.get_dummies(train_contracts['productType'])\n",
    "train_contracts = train_contracts.merge(aux,right_index=True,left_index=True).drop(['productType'],axis=1)\n",
    "aux = pd.get_dummies(train_contracts['gender'])\n",
    "train_contracts = train_contracts.merge(aux,right_index=True,left_index=True).drop(['gender'],axis=1)\n",
    "train_contracts = train_contracts.drop(['F','WBSU'],axis=1)"
   ]
  },
  {
   "cell_type": "code",
   "execution_count": 156,
   "metadata": {},
   "outputs": [],
   "source": [
    "aux = pd.get_dummies(all_contracts['productType'])\n",
    "all_contracts = all_contracts.merge(aux,right_index=True,left_index=True).drop(['productType'],axis=1)\n",
    "aux = pd.get_dummies(all_contracts['gender'])\n",
    "all_contracts = all_contracts.merge(aux,right_index=True,left_index=True).drop(['gender'],axis=1)\n",
    "all_contracts = all_contracts.drop(['F','WBSU'],axis=1)"
   ]
  },
  {
   "cell_type": "code",
   "execution_count": 157,
   "metadata": {},
   "outputs": [
    {
     "data": {
      "text/html": [
       "<div>\n",
       "<style scoped>\n",
       "    .dataframe tbody tr th:only-of-type {\n",
       "        vertical-align: middle;\n",
       "    }\n",
       "\n",
       "    .dataframe tbody tr th {\n",
       "        vertical-align: top;\n",
       "    }\n",
       "\n",
       "    .dataframe thead th {\n",
       "        text-align: right;\n",
       "    }\n",
       "</style>\n",
       "<table border=\"1\" class=\"dataframe\">\n",
       "  <thead>\n",
       "    <tr style=\"text-align: right;\">\n",
       "      <th></th>\n",
       "      <th>survivorShip</th>\n",
       "      <th>issueDate</th>\n",
       "      <th>matDate</th>\n",
       "      <th>birthDate</th>\n",
       "      <th>currentDate</th>\n",
       "      <th>baseFee</th>\n",
       "      <th>riderFee</th>\n",
       "      <th>rollUpRate</th>\n",
       "      <th>gbAmt</th>\n",
       "      <th>gmwbBalance</th>\n",
       "      <th>...</th>\n",
       "      <th>DBWB</th>\n",
       "      <th>IBRP</th>\n",
       "      <th>IBRU</th>\n",
       "      <th>IBSU</th>\n",
       "      <th>MBRP</th>\n",
       "      <th>MBRU</th>\n",
       "      <th>MBSU</th>\n",
       "      <th>WBRP</th>\n",
       "      <th>WBRU</th>\n",
       "      <th>M</th>\n",
       "    </tr>\n",
       "  </thead>\n",
       "  <tbody>\n",
       "    <tr>\n",
       "      <th>0</th>\n",
       "      <td>1</td>\n",
       "      <td>38596</td>\n",
       "      <td>48823</td>\n",
       "      <td>24504</td>\n",
       "      <td>41791</td>\n",
       "      <td>0.02</td>\n",
       "      <td>0.005</td>\n",
       "      <td>0.0</td>\n",
       "      <td>87657.368596</td>\n",
       "      <td>0.0</td>\n",
       "      <td>...</td>\n",
       "      <td>0</td>\n",
       "      <td>0</td>\n",
       "      <td>0</td>\n",
       "      <td>0</td>\n",
       "      <td>0</td>\n",
       "      <td>0</td>\n",
       "      <td>0</td>\n",
       "      <td>0</td>\n",
       "      <td>0</td>\n",
       "      <td>0</td>\n",
       "    </tr>\n",
       "    <tr>\n",
       "      <th>1</th>\n",
       "      <td>1</td>\n",
       "      <td>41122</td>\n",
       "      <td>48427</td>\n",
       "      <td>20699</td>\n",
       "      <td>41791</td>\n",
       "      <td>0.02</td>\n",
       "      <td>0.005</td>\n",
       "      <td>0.0</td>\n",
       "      <td>161534.095807</td>\n",
       "      <td>0.0</td>\n",
       "      <td>...</td>\n",
       "      <td>0</td>\n",
       "      <td>0</td>\n",
       "      <td>0</td>\n",
       "      <td>0</td>\n",
       "      <td>0</td>\n",
       "      <td>0</td>\n",
       "      <td>0</td>\n",
       "      <td>0</td>\n",
       "      <td>0</td>\n",
       "      <td>1</td>\n",
       "    </tr>\n",
       "    <tr>\n",
       "      <th>2</th>\n",
       "      <td>1</td>\n",
       "      <td>41122</td>\n",
       "      <td>48427</td>\n",
       "      <td>22402</td>\n",
       "      <td>41791</td>\n",
       "      <td>0.02</td>\n",
       "      <td>0.005</td>\n",
       "      <td>0.0</td>\n",
       "      <td>407190.045231</td>\n",
       "      <td>0.0</td>\n",
       "      <td>...</td>\n",
       "      <td>0</td>\n",
       "      <td>0</td>\n",
       "      <td>0</td>\n",
       "      <td>0</td>\n",
       "      <td>0</td>\n",
       "      <td>0</td>\n",
       "      <td>0</td>\n",
       "      <td>0</td>\n",
       "      <td>0</td>\n",
       "      <td>1</td>\n",
       "    </tr>\n",
       "    <tr>\n",
       "      <th>3</th>\n",
       "      <td>1</td>\n",
       "      <td>38384</td>\n",
       "      <td>47150</td>\n",
       "      <td>26146</td>\n",
       "      <td>41791</td>\n",
       "      <td>0.02</td>\n",
       "      <td>0.005</td>\n",
       "      <td>0.0</td>\n",
       "      <td>307425.136759</td>\n",
       "      <td>0.0</td>\n",
       "      <td>...</td>\n",
       "      <td>0</td>\n",
       "      <td>0</td>\n",
       "      <td>0</td>\n",
       "      <td>0</td>\n",
       "      <td>0</td>\n",
       "      <td>0</td>\n",
       "      <td>0</td>\n",
       "      <td>0</td>\n",
       "      <td>0</td>\n",
       "      <td>1</td>\n",
       "    </tr>\n",
       "    <tr>\n",
       "      <th>4</th>\n",
       "      <td>1</td>\n",
       "      <td>36739</td>\n",
       "      <td>45870</td>\n",
       "      <td>18902</td>\n",
       "      <td>41791</td>\n",
       "      <td>0.02</td>\n",
       "      <td>0.005</td>\n",
       "      <td>0.0</td>\n",
       "      <td>356480.863596</td>\n",
       "      <td>0.0</td>\n",
       "      <td>...</td>\n",
       "      <td>0</td>\n",
       "      <td>0</td>\n",
       "      <td>0</td>\n",
       "      <td>0</td>\n",
       "      <td>0</td>\n",
       "      <td>0</td>\n",
       "      <td>0</td>\n",
       "      <td>0</td>\n",
       "      <td>0</td>\n",
       "      <td>0</td>\n",
       "    </tr>\n",
       "  </tbody>\n",
       "</table>\n",
       "<p>5 rows × 77 columns</p>\n",
       "</div>"
      ],
      "text/plain": [
       "   survivorShip  issueDate  matDate  birthDate  currentDate  baseFee  \\\n",
       "0             1      38596    48823      24504        41791     0.02   \n",
       "1             1      41122    48427      20699        41791     0.02   \n",
       "2             1      41122    48427      22402        41791     0.02   \n",
       "3             1      38384    47150      26146        41791     0.02   \n",
       "4             1      36739    45870      18902        41791     0.02   \n",
       "\n",
       "   riderFee  rollUpRate          gbAmt  gmwbBalance ...  DBWB  IBRP  IBRU  \\\n",
       "0     0.005         0.0   87657.368596          0.0 ...     0     0     0   \n",
       "1     0.005         0.0  161534.095807          0.0 ...     0     0     0   \n",
       "2     0.005         0.0  407190.045231          0.0 ...     0     0     0   \n",
       "3     0.005         0.0  307425.136759          0.0 ...     0     0     0   \n",
       "4     0.005         0.0  356480.863596          0.0 ...     0     0     0   \n",
       "\n",
       "   IBSU  MBRP  MBRU  MBSU  WBRP  WBRU  M  \n",
       "0     0     0     0     0     0     0  0  \n",
       "1     0     0     0     0     0     0  1  \n",
       "2     0     0     0     0     0     0  1  \n",
       "3     0     0     0     0     0     0  1  \n",
       "4     0     0     0     0     0     0  0  \n",
       "\n",
       "[5 rows x 77 columns]"
      ]
     },
     "execution_count": 157,
     "metadata": {},
     "output_type": "execute_result"
    }
   ],
   "source": [
    "all_contracts.head()"
   ]
  },
  {
   "cell_type": "code",
   "execution_count": 166,
   "metadata": {},
   "outputs": [
    {
     "data": {
      "text/html": [
       "<div>\n",
       "<style scoped>\n",
       "    .dataframe tbody tr th:only-of-type {\n",
       "        vertical-align: middle;\n",
       "    }\n",
       "\n",
       "    .dataframe tbody tr th {\n",
       "        vertical-align: top;\n",
       "    }\n",
       "\n",
       "    .dataframe thead th {\n",
       "        text-align: right;\n",
       "    }\n",
       "</style>\n",
       "<table border=\"1\" class=\"dataframe\">\n",
       "  <thead>\n",
       "    <tr style=\"text-align: right;\">\n",
       "      <th></th>\n",
       "      <th>survivorShip</th>\n",
       "      <th>issueDate</th>\n",
       "      <th>matDate</th>\n",
       "      <th>birthDate</th>\n",
       "      <th>currentDate</th>\n",
       "      <th>baseFee</th>\n",
       "      <th>riderFee</th>\n",
       "      <th>rollUpRate</th>\n",
       "      <th>gbAmt</th>\n",
       "      <th>gmwbBalance</th>\n",
       "      <th>...</th>\n",
       "      <th>DBWB</th>\n",
       "      <th>IBRP</th>\n",
       "      <th>IBRU</th>\n",
       "      <th>IBSU</th>\n",
       "      <th>MBRP</th>\n",
       "      <th>MBRU</th>\n",
       "      <th>MBSU</th>\n",
       "      <th>WBRP</th>\n",
       "      <th>WBRU</th>\n",
       "      <th>M</th>\n",
       "    </tr>\n",
       "  </thead>\n",
       "  <tbody>\n",
       "    <tr>\n",
       "      <th>0</th>\n",
       "      <td>1</td>\n",
       "      <td>36982</td>\n",
       "      <td>45017</td>\n",
       "      <td>22555</td>\n",
       "      <td>41791</td>\n",
       "      <td>0.02</td>\n",
       "      <td>0.005</td>\n",
       "      <td>0.0</td>\n",
       "      <td>273636.463790</td>\n",
       "      <td>0.0</td>\n",
       "      <td>...</td>\n",
       "      <td>0</td>\n",
       "      <td>0</td>\n",
       "      <td>0</td>\n",
       "      <td>0</td>\n",
       "      <td>0</td>\n",
       "      <td>0</td>\n",
       "      <td>0</td>\n",
       "      <td>0</td>\n",
       "      <td>0</td>\n",
       "      <td>1</td>\n",
       "    </tr>\n",
       "    <tr>\n",
       "      <th>1</th>\n",
       "      <td>1</td>\n",
       "      <td>40603</td>\n",
       "      <td>49735</td>\n",
       "      <td>20363</td>\n",
       "      <td>41791</td>\n",
       "      <td>0.02</td>\n",
       "      <td>0.005</td>\n",
       "      <td>0.0</td>\n",
       "      <td>436788.276659</td>\n",
       "      <td>0.0</td>\n",
       "      <td>...</td>\n",
       "      <td>0</td>\n",
       "      <td>0</td>\n",
       "      <td>0</td>\n",
       "      <td>0</td>\n",
       "      <td>0</td>\n",
       "      <td>0</td>\n",
       "      <td>0</td>\n",
       "      <td>0</td>\n",
       "      <td>0</td>\n",
       "      <td>1</td>\n",
       "    </tr>\n",
       "    <tr>\n",
       "      <th>2</th>\n",
       "      <td>1</td>\n",
       "      <td>36678</td>\n",
       "      <td>45078</td>\n",
       "      <td>26390</td>\n",
       "      <td>41791</td>\n",
       "      <td>0.02</td>\n",
       "      <td>0.005</td>\n",
       "      <td>0.0</td>\n",
       "      <td>393770.429710</td>\n",
       "      <td>0.0</td>\n",
       "      <td>...</td>\n",
       "      <td>0</td>\n",
       "      <td>0</td>\n",
       "      <td>0</td>\n",
       "      <td>0</td>\n",
       "      <td>0</td>\n",
       "      <td>0</td>\n",
       "      <td>0</td>\n",
       "      <td>0</td>\n",
       "      <td>0</td>\n",
       "      <td>1</td>\n",
       "    </tr>\n",
       "    <tr>\n",
       "      <th>3</th>\n",
       "      <td>1</td>\n",
       "      <td>39448</td>\n",
       "      <td>49310</td>\n",
       "      <td>21155</td>\n",
       "      <td>41791</td>\n",
       "      <td>0.02</td>\n",
       "      <td>0.005</td>\n",
       "      <td>0.0</td>\n",
       "      <td>195454.226448</td>\n",
       "      <td>0.0</td>\n",
       "      <td>...</td>\n",
       "      <td>0</td>\n",
       "      <td>0</td>\n",
       "      <td>0</td>\n",
       "      <td>0</td>\n",
       "      <td>0</td>\n",
       "      <td>0</td>\n",
       "      <td>0</td>\n",
       "      <td>0</td>\n",
       "      <td>0</td>\n",
       "      <td>1</td>\n",
       "    </tr>\n",
       "    <tr>\n",
       "      <th>4</th>\n",
       "      <td>1</td>\n",
       "      <td>37438</td>\n",
       "      <td>45474</td>\n",
       "      <td>19511</td>\n",
       "      <td>41791</td>\n",
       "      <td>0.02</td>\n",
       "      <td>0.005</td>\n",
       "      <td>0.0</td>\n",
       "      <td>302727.942538</td>\n",
       "      <td>0.0</td>\n",
       "      <td>...</td>\n",
       "      <td>0</td>\n",
       "      <td>0</td>\n",
       "      <td>0</td>\n",
       "      <td>0</td>\n",
       "      <td>0</td>\n",
       "      <td>0</td>\n",
       "      <td>0</td>\n",
       "      <td>0</td>\n",
       "      <td>0</td>\n",
       "      <td>1</td>\n",
       "    </tr>\n",
       "  </tbody>\n",
       "</table>\n",
       "<p>5 rows × 77 columns</p>\n",
       "</div>"
      ],
      "text/plain": [
       "   survivorShip  issueDate  matDate  birthDate  currentDate  baseFee  \\\n",
       "0             1      36982    45017      22555        41791     0.02   \n",
       "1             1      40603    49735      20363        41791     0.02   \n",
       "2             1      36678    45078      26390        41791     0.02   \n",
       "3             1      39448    49310      21155        41791     0.02   \n",
       "4             1      37438    45474      19511        41791     0.02   \n",
       "\n",
       "   riderFee  rollUpRate          gbAmt  gmwbBalance ...  DBWB  IBRP  IBRU  \\\n",
       "0     0.005         0.0  273636.463790          0.0 ...     0     0     0   \n",
       "1     0.005         0.0  436788.276659          0.0 ...     0     0     0   \n",
       "2     0.005         0.0  393770.429710          0.0 ...     0     0     0   \n",
       "3     0.005         0.0  195454.226448          0.0 ...     0     0     0   \n",
       "4     0.005         0.0  302727.942538          0.0 ...     0     0     0   \n",
       "\n",
       "   IBSU  MBRP  MBRU  MBSU  WBRP  WBRU  M  \n",
       "0     0     0     0     0     0     0  1  \n",
       "1     0     0     0     0     0     0  1  \n",
       "2     0     0     0     0     0     0  1  \n",
       "3     0     0     0     0     0     0  1  \n",
       "4     0     0     0     0     0     0  1  \n",
       "\n",
       "[5 rows x 77 columns]"
      ]
     },
     "execution_count": 166,
     "metadata": {},
     "output_type": "execute_result"
    }
   ],
   "source": [
    "train_contracts = train_contracts.replace([np.inf, -np.inf], np.nan)\n",
    "train_contracts = train_contracts.dropna()\n",
    "train_contracts.head()"
   ]
  },
  {
   "cell_type": "code",
   "execution_count": 167,
   "metadata": {},
   "outputs": [
    {
     "data": {
      "text/plain": [
       "(340, 77)"
      ]
     },
     "execution_count": 167,
     "metadata": {},
     "output_type": "execute_result"
    }
   ],
   "source": [
    "train_contracts.shape"
   ]
  },
  {
   "cell_type": "markdown",
   "metadata": {},
   "source": [
    "### Auxiliary Functions"
   ]
  },
  {
   "cell_type": "code",
   "execution_count": 39,
   "metadata": {},
   "outputs": [],
   "source": [
    "# Function that cleans Data:\n",
    "\n",
    "def cleaningData(x):\n",
    "    \n",
    "    # Building Account Value (AV) variable \n",
    "    x['AV'] = x[['FundValue' + str(i) for i in np.arange(1, 11, 1)]].sum(axis=1)\n",
    "\n",
    "    \n",
    "    # Filtering only importants variables\n",
    "    #x = x[['gender','productType','ttm','age', 'AV','gbAmt','withdrawal','wbWithdrawalRate','fmv']]\n",
    "    \n",
    "    # Selecting only two categories\n",
    "\n",
    "    # TRASH:\n",
    "    x.loc[:, 'productType'] = [\"trash\" if value in ['ABRP','ABRU','ABSU','IBRP','IBRU','IBSU','MBRP','MBRU','MBSU','DBAB','DBIB','DBMB','DBWB'] else value for value in list(x.productType)]\n",
    "\n",
    "    # GMDB:\n",
    "    x.loc[:, 'productType'] = [\"GMDB\" if value in ['DBRP','DBRU','DBSU'] else value for value in list(x.productType)]\n",
    "\n",
    "    # GMWB:\n",
    "    x.loc[:, 'productType'] = [\"GMWB\" if value in ['WBRP','WBRU','WBSU'] else value for value in list(x.productType)]\n",
    "    \n",
    "    # Building variables:\n",
    "    x.withdrawal = x.withdrawal/x.AV\n",
    "    x.gbAmt = x.gbAmt/x.AV\n",
    "    \n",
    "    # Categories into numbers:\n",
    "    auxiliar_data = pd.DataFrame(x[::])\n",
    "    auxiliar_data['male'] = [1 if value == 'M' else 0 for value in auxiliar_data.gender]\n",
    "    auxiliar_data['GMDB'] = [1 if value == 'GMDB' else 0 for value in auxiliar_data.productType]\n",
    "    auxiliar_data['GMWB'] = [1 if value == 'GMWB' else 0 for value in auxiliar_data.productType]\n",
    "\n",
    "    # Dropping old category variables:\n",
    "    auxiliar_data = auxiliar_data.drop(['gender', 'productType'], axis=1)\n",
    "\n",
    "    # Dropping Acount Value == 0:\n",
    "    auxiliar_data = auxiliar_data[auxiliar_data.AV != 0]\n",
    "    \n",
    "    y = pd.DataFrame(auxiliar_data['fmv'])\n",
    "    x = auxiliar_data.drop(['fmv'], axis = 1)\n",
    "    \n",
    "    return [x,y]"
   ]
  },
  {
   "cell_type": "code",
   "execution_count": 40,
   "metadata": {},
   "outputs": [],
   "source": [
    "# Standard Function:\n",
    "def standardNow(df):\n",
    "    m = []\n",
    "    s = []\n",
    "    dfaux = pd.DataFrame(np.array(df))\n",
    "    for i in range(0,dfaux.shape[1]):\n",
    "        mean = dfaux.iloc[:,i].mean()\n",
    "        std = dfaux.iloc[:,i].std()\n",
    "        dfaux.iloc[:,i] = (dfaux.iloc[:,i]-mean)/std\n",
    "        m.append(mean)\n",
    "        s.append(std)\n",
    "    return [dfaux,m,s]"
   ]
  },
  {
   "cell_type": "code",
   "execution_count": 41,
   "metadata": {},
   "outputs": [],
   "source": [
    "def RFR(x_train,y_train,x_test,y_test,NE,RE):\n",
    "    # Train\n",
    "    xtrain = np.array(standardNow(x_train)[0])\n",
    "    ytrain = np.array(standardNow(y_train)[0])\n",
    "    # Test:\n",
    "    xtest = np.array(standardNow(x_test)[0])\n",
    "    ytest = np.array(standardNow(y_test)[0])\n",
    "    #initialize:\n",
    "    rfr = RandomForestRegressor(n_estimators = NE, random_state = RE)\n",
    "    rfr.fit(xtrain, ytrain)\n",
    "    # Use the forest's predict method on the test data\n",
    "    predictions = rfr.predict(xtest)\n",
    "    predictions = np.array([predictions]).T\n",
    "    # Calculate the absolute errors\n",
    "    errors = abs(predictions - ytest)\n",
    "    errors = round(np.mean(errors), 2)\n",
    "    # Calculate mean absolute percentage error (MAPE)\n",
    "    mape = 100 * (errors / ytest)\n",
    "    return [errors,mape]"
   ]
  },
  {
   "cell_type": "code",
   "execution_count": 42,
   "metadata": {},
   "outputs": [],
   "source": [
    "def extrapol(x_train,y_train,x_test,y_test,NE,RE,xall,yall):\n",
    "    xall = np.array(xall)\n",
    "    yall = np.array(yall)\n",
    "    # Train\n",
    "    xtrain = np.array(standardNow(x_train)[0])\n",
    "    ytrain = np.array(standardNow(y_train)[0])\n",
    "    # Test:\n",
    "    xtest = np.array(standardNow(x_test)[0])\n",
    "    ytest = np.array(standardNow(y_test)[0])\n",
    "    # Metrics\n",
    "    xmean = standardNow(xall)[1]\n",
    "    xstd = standardNow(xall)[2]\n",
    "    ymean = standardNow(y_train)[1]\n",
    "    ystd = standardNow(y_train)[2]\n",
    "    xall = (xall-xmean)/xstd\n",
    "    #initialize:\n",
    "    rfr = RandomForestRegressor(n_estimators = NE, random_state = RE)\n",
    "    rfr.fit(xtrain, ytrain)\n",
    "    # Use the forest's predict method on the test data\n",
    "    predictions = rfr.predict(xall)\n",
    "    predictions = np.array([predictions]).T\n",
    "    predictions = (predictions*ystd)+ymean\n",
    "    # Calculate the absolute errors\n",
    "    errorsMAE = round(np.mean(abs(yall - predictions)), 2)\n",
    "    errorsR2 = 1 - (sum(np.power((yall - predictions),2))/np.power(sum(yall-ymean),2))\n",
    "    errorsPE = abs(yall - predictions)/yall\n",
    "    #errors = round(np.mean(errors), 2)\n",
    "    return [print('MAE: '+str(errorsMAE)), print('R2: '+str(errorsR2)),print('PE: '+str(errorsPE))]"
   ]
  },
  {
   "cell_type": "markdown",
   "metadata": {},
   "source": [
    "### Data "
   ]
  },
  {
   "cell_type": "code",
   "execution_count": 43,
   "metadata": {},
   "outputs": [],
   "source": [
    "# Cleaning Data:\n",
    "rep = cleaningData(rep_contracts)\n",
    "train = cleaningData(train_contracts)\n",
    "allC = cleaningData(all_contracts)"
   ]
  },
  {
   "cell_type": "markdown",
   "metadata": {},
   "source": [
    "### Random Forest"
   ]
  },
  {
   "cell_type": "code",
   "execution_count": 168,
   "metadata": {},
   "outputs": [],
   "source": [
    "# Cleaning Data:\n",
    "# rep = cleaningData(rep_contracts)\n",
    "# train = cleaningData(train_contracts)\n",
    "# Splitting Data\n",
    "x_train, x_test, y_train, y_test = train_test_split(train_contracts,train_contracts['fmv'],test_size=0.20,random_state=0)\n",
    "# Saving feature names for later use\n",
    "cols = list(train[0].columns)"
   ]
  },
  {
   "cell_type": "code",
   "execution_count": 169,
   "metadata": {},
   "outputs": [
    {
     "data": {
      "text/plain": [
       "(272, 77)"
      ]
     },
     "execution_count": 169,
     "metadata": {},
     "output_type": "execute_result"
    }
   ],
   "source": [
    "x_train.shape"
   ]
  },
  {
   "cell_type": "code",
   "execution_count": 171,
   "metadata": {},
   "outputs": [],
   "source": [
    "x_train = x_train.dropna()"
   ]
  },
  {
   "cell_type": "code",
   "execution_count": 184,
   "metadata": {},
   "outputs": [],
   "source": [
    "rfr = RandomForestRegressor(n_estimators = 1000, random_state = 0)\n",
    "rfr.fit(x_train, y_train)\n",
    "# Use the forest's predict method on the test data\n",
    "predictions = rfr.predict(x_test)\n",
    "predictions = np.array([predictions]).T\n",
    "# Calculate the absolute errors\n",
    "errors = abs(predictions - np.array(y_test))\n",
    "errors = round(np.mean(errors), 2)"
   ]
  },
  {
   "cell_type": "code",
   "execution_count": 185,
   "metadata": {},
   "outputs": [
    {
     "data": {
      "text/plain": [
       "141923.79"
      ]
     },
     "execution_count": 185,
     "metadata": {},
     "output_type": "execute_result"
    }
   ],
   "source": [
    "errors"
   ]
  },
  {
   "cell_type": "code",
   "execution_count": 173,
   "metadata": {},
   "outputs": [
    {
     "name": "stdout",
     "output_type": "stream",
     "text": [
      "y test shape: (68,)\n",
      "y train shape: (272,)\n",
      "x test shape: (68, 77)\n",
      "x train shape: (272, 77)\n"
     ]
    }
   ],
   "source": [
    "# Shapes:\n",
    "print('y test shape: ' + str(y_test.shape))\n",
    "print('y train shape: ' + str(y_train.shape))\n",
    "print('x test shape: ' + str(x_test.shape))\n",
    "print('x train shape: ' + str(x_train.shape))"
   ]
  },
  {
   "cell_type": "code",
   "execution_count": 174,
   "metadata": {},
   "outputs": [
    {
     "ename": "ValueError",
     "evalue": "Input contains NaN, infinity or a value too large for dtype('float32').",
     "output_type": "error",
     "traceback": [
      "\u001b[0;31m---------------------------------------------------------------------------\u001b[0m",
      "\u001b[0;31mValueError\u001b[0m                                Traceback (most recent call last)",
      "\u001b[0;32m<ipython-input-174-67c4a5d2e672>\u001b[0m in \u001b[0;36m<module>\u001b[0;34m\u001b[0m\n\u001b[0;32m----> 1\u001b[0;31m \u001b[0mRFR\u001b[0m\u001b[0;34m(\u001b[0m\u001b[0mx_train\u001b[0m\u001b[0;34m,\u001b[0m\u001b[0my_train\u001b[0m\u001b[0;34m,\u001b[0m\u001b[0mx_test\u001b[0m\u001b[0;34m,\u001b[0m\u001b[0my_test\u001b[0m\u001b[0;34m,\u001b[0m\u001b[0;36m10\u001b[0m\u001b[0;34m,\u001b[0m\u001b[0;36m0\u001b[0m\u001b[0;34m)\u001b[0m\u001b[0;34m[\u001b[0m\u001b[0;36m0\u001b[0m\u001b[0;34m]\u001b[0m\u001b[0;34m\u001b[0m\u001b[0;34m\u001b[0m\u001b[0m\n\u001b[0m",
      "\u001b[0;32m<ipython-input-41-65b302cc8d75>\u001b[0m in \u001b[0;36mRFR\u001b[0;34m(x_train, y_train, x_test, y_test, NE, RE)\u001b[0m\n\u001b[1;32m      8\u001b[0m     \u001b[0;31m#initialize:\u001b[0m\u001b[0;34m\u001b[0m\u001b[0;34m\u001b[0m\u001b[0;34m\u001b[0m\u001b[0m\n\u001b[1;32m      9\u001b[0m     \u001b[0mrfr\u001b[0m \u001b[0;34m=\u001b[0m \u001b[0mRandomForestRegressor\u001b[0m\u001b[0;34m(\u001b[0m\u001b[0mn_estimators\u001b[0m \u001b[0;34m=\u001b[0m \u001b[0mNE\u001b[0m\u001b[0;34m,\u001b[0m \u001b[0mrandom_state\u001b[0m \u001b[0;34m=\u001b[0m \u001b[0mRE\u001b[0m\u001b[0;34m)\u001b[0m\u001b[0;34m\u001b[0m\u001b[0;34m\u001b[0m\u001b[0m\n\u001b[0;32m---> 10\u001b[0;31m     \u001b[0mrfr\u001b[0m\u001b[0;34m.\u001b[0m\u001b[0mfit\u001b[0m\u001b[0;34m(\u001b[0m\u001b[0mxtrain\u001b[0m\u001b[0;34m,\u001b[0m \u001b[0mytrain\u001b[0m\u001b[0;34m)\u001b[0m\u001b[0;34m\u001b[0m\u001b[0;34m\u001b[0m\u001b[0m\n\u001b[0m\u001b[1;32m     11\u001b[0m     \u001b[0;31m# Use the forest's predict method on the test data\u001b[0m\u001b[0;34m\u001b[0m\u001b[0;34m\u001b[0m\u001b[0;34m\u001b[0m\u001b[0m\n\u001b[1;32m     12\u001b[0m     \u001b[0mpredictions\u001b[0m \u001b[0;34m=\u001b[0m \u001b[0mrfr\u001b[0m\u001b[0;34m.\u001b[0m\u001b[0mpredict\u001b[0m\u001b[0;34m(\u001b[0m\u001b[0mxtest\u001b[0m\u001b[0;34m)\u001b[0m\u001b[0;34m\u001b[0m\u001b[0;34m\u001b[0m\u001b[0m\n",
      "\u001b[0;32m~/anaconda3/lib/python3.7/site-packages/sklearn/ensemble/forest.py\u001b[0m in \u001b[0;36mfit\u001b[0;34m(self, X, y, sample_weight)\u001b[0m\n\u001b[1;32m    248\u001b[0m \u001b[0;34m\u001b[0m\u001b[0m\n\u001b[1;32m    249\u001b[0m         \u001b[0;31m# Validate or convert input data\u001b[0m\u001b[0;34m\u001b[0m\u001b[0;34m\u001b[0m\u001b[0;34m\u001b[0m\u001b[0m\n\u001b[0;32m--> 250\u001b[0;31m         \u001b[0mX\u001b[0m \u001b[0;34m=\u001b[0m \u001b[0mcheck_array\u001b[0m\u001b[0;34m(\u001b[0m\u001b[0mX\u001b[0m\u001b[0;34m,\u001b[0m \u001b[0maccept_sparse\u001b[0m\u001b[0;34m=\u001b[0m\u001b[0;34m\"csc\"\u001b[0m\u001b[0;34m,\u001b[0m \u001b[0mdtype\u001b[0m\u001b[0;34m=\u001b[0m\u001b[0mDTYPE\u001b[0m\u001b[0;34m)\u001b[0m\u001b[0;34m\u001b[0m\u001b[0;34m\u001b[0m\u001b[0m\n\u001b[0m\u001b[1;32m    251\u001b[0m         \u001b[0my\u001b[0m \u001b[0;34m=\u001b[0m \u001b[0mcheck_array\u001b[0m\u001b[0;34m(\u001b[0m\u001b[0my\u001b[0m\u001b[0;34m,\u001b[0m \u001b[0maccept_sparse\u001b[0m\u001b[0;34m=\u001b[0m\u001b[0;34m'csc'\u001b[0m\u001b[0;34m,\u001b[0m \u001b[0mensure_2d\u001b[0m\u001b[0;34m=\u001b[0m\u001b[0;32mFalse\u001b[0m\u001b[0;34m,\u001b[0m \u001b[0mdtype\u001b[0m\u001b[0;34m=\u001b[0m\u001b[0;32mNone\u001b[0m\u001b[0;34m)\u001b[0m\u001b[0;34m\u001b[0m\u001b[0;34m\u001b[0m\u001b[0m\n\u001b[1;32m    252\u001b[0m         \u001b[0;32mif\u001b[0m \u001b[0msample_weight\u001b[0m \u001b[0;32mis\u001b[0m \u001b[0;32mnot\u001b[0m \u001b[0;32mNone\u001b[0m\u001b[0;34m:\u001b[0m\u001b[0;34m\u001b[0m\u001b[0;34m\u001b[0m\u001b[0m\n",
      "\u001b[0;32m~/anaconda3/lib/python3.7/site-packages/sklearn/utils/validation.py\u001b[0m in \u001b[0;36mcheck_array\u001b[0;34m(array, accept_sparse, accept_large_sparse, dtype, order, copy, force_all_finite, ensure_2d, allow_nd, ensure_min_samples, ensure_min_features, warn_on_dtype, estimator)\u001b[0m\n\u001b[1;32m    571\u001b[0m         \u001b[0;32mif\u001b[0m \u001b[0mforce_all_finite\u001b[0m\u001b[0;34m:\u001b[0m\u001b[0;34m\u001b[0m\u001b[0;34m\u001b[0m\u001b[0m\n\u001b[1;32m    572\u001b[0m             _assert_all_finite(array,\n\u001b[0;32m--> 573\u001b[0;31m                                allow_nan=force_all_finite == 'allow-nan')\n\u001b[0m\u001b[1;32m    574\u001b[0m \u001b[0;34m\u001b[0m\u001b[0m\n\u001b[1;32m    575\u001b[0m     \u001b[0mshape_repr\u001b[0m \u001b[0;34m=\u001b[0m \u001b[0m_shape_repr\u001b[0m\u001b[0;34m(\u001b[0m\u001b[0marray\u001b[0m\u001b[0;34m.\u001b[0m\u001b[0mshape\u001b[0m\u001b[0;34m)\u001b[0m\u001b[0;34m\u001b[0m\u001b[0;34m\u001b[0m\u001b[0m\n",
      "\u001b[0;32m~/anaconda3/lib/python3.7/site-packages/sklearn/utils/validation.py\u001b[0m in \u001b[0;36m_assert_all_finite\u001b[0;34m(X, allow_nan)\u001b[0m\n\u001b[1;32m     54\u001b[0m                 not allow_nan and not np.isfinite(X).all()):\n\u001b[1;32m     55\u001b[0m             \u001b[0mtype_err\u001b[0m \u001b[0;34m=\u001b[0m \u001b[0;34m'infinity'\u001b[0m \u001b[0;32mif\u001b[0m \u001b[0mallow_nan\u001b[0m \u001b[0;32melse\u001b[0m \u001b[0;34m'NaN, infinity'\u001b[0m\u001b[0;34m\u001b[0m\u001b[0;34m\u001b[0m\u001b[0m\n\u001b[0;32m---> 56\u001b[0;31m             \u001b[0;32mraise\u001b[0m \u001b[0mValueError\u001b[0m\u001b[0;34m(\u001b[0m\u001b[0mmsg_err\u001b[0m\u001b[0;34m.\u001b[0m\u001b[0mformat\u001b[0m\u001b[0;34m(\u001b[0m\u001b[0mtype_err\u001b[0m\u001b[0;34m,\u001b[0m \u001b[0mX\u001b[0m\u001b[0;34m.\u001b[0m\u001b[0mdtype\u001b[0m\u001b[0;34m)\u001b[0m\u001b[0;34m)\u001b[0m\u001b[0;34m\u001b[0m\u001b[0;34m\u001b[0m\u001b[0m\n\u001b[0m\u001b[1;32m     57\u001b[0m \u001b[0;34m\u001b[0m\u001b[0m\n\u001b[1;32m     58\u001b[0m \u001b[0;34m\u001b[0m\u001b[0m\n",
      "\u001b[0;31mValueError\u001b[0m: Input contains NaN, infinity or a value too large for dtype('float32')."
     ]
    }
   ],
   "source": [
    "RFR(x_train,y_train,x_test,y_test,10,0)[0]"
   ]
  },
  {
   "cell_type": "markdown",
   "metadata": {},
   "source": [
    "### Extrapolation "
   ]
  },
  {
   "cell_type": "code",
   "execution_count": 98,
   "metadata": {},
   "outputs": [],
   "source": [
    "xall = allC[0]\n",
    "yall = allC[1]"
   ]
  },
  {
   "cell_type": "code",
   "execution_count": 29,
   "metadata": {},
   "outputs": [
    {
     "ename": "NameError",
     "evalue": "name 'xtrain' is not defined",
     "output_type": "error",
     "traceback": [
      "\u001b[0;31m---------------------------------------------------------------------------\u001b[0m",
      "\u001b[0;31mNameError\u001b[0m                                 Traceback (most recent call last)",
      "\u001b[0;32m<ipython-input-29-704257c3f26f>\u001b[0m in \u001b[0;36m<module>\u001b[0;34m\u001b[0m\n\u001b[0;32m----> 1\u001b[0;31m \u001b[0mextrapol\u001b[0m\u001b[0;34m(\u001b[0m\u001b[0mxtrain\u001b[0m\u001b[0;34m,\u001b[0m\u001b[0mytrain\u001b[0m\u001b[0;34m,\u001b[0m\u001b[0mxtest\u001b[0m\u001b[0;34m,\u001b[0m\u001b[0mytest\u001b[0m\u001b[0;34m,\u001b[0m\u001b[0;36m10\u001b[0m\u001b[0;34m,\u001b[0m\u001b[0;36m0\u001b[0m\u001b[0;34m,\u001b[0m\u001b[0mxall\u001b[0m\u001b[0;34m,\u001b[0m\u001b[0myall\u001b[0m\u001b[0;34m)\u001b[0m\u001b[0;34m\u001b[0m\u001b[0;34m\u001b[0m\u001b[0m\n\u001b[0m",
      "\u001b[0;31mNameError\u001b[0m: name 'xtrain' is not defined"
     ]
    }
   ],
   "source": [
    "extrapol(xtrain,ytrain,xtest,ytest,10,0,xall,yall)"
   ]
  },
  {
   "cell_type": "code",
   "execution_count": 30,
   "metadata": {},
   "outputs": [
    {
     "ename": "NameError",
     "evalue": "name 'yall' is not defined",
     "output_type": "error",
     "traceback": [
      "\u001b[0;31m---------------------------------------------------------------------------\u001b[0m",
      "\u001b[0;31mNameError\u001b[0m                                 Traceback (most recent call last)",
      "\u001b[0;32m<ipython-input-30-fcb3b810e73b>\u001b[0m in \u001b[0;36m<module>\u001b[0;34m\u001b[0m\n\u001b[0;32m----> 1\u001b[0;31m \u001b[0myall\u001b[0m\u001b[0;34m\u001b[0m\u001b[0;34m\u001b[0m\u001b[0m\n\u001b[0m",
      "\u001b[0;31mNameError\u001b[0m: name 'yall' is not defined"
     ]
    }
   ],
   "source": [
    "yall"
   ]
  },
  {
   "cell_type": "code",
   "execution_count": 164,
   "metadata": {},
   "outputs": [
    {
     "name": "stdout",
     "output_type": "stream",
     "text": [
      "Variable: ttm                  Importance: 1.0\n"
     ]
    }
   ],
   "source": [
    "# Get numerical feature importances\n",
    "importances = list(rf.feature_importances_)\n",
    "# List of tuples with variable and importance\n",
    "feature_importances = [(feature, round(importance, 2)) for feature, importance in zip(feature_list, importances)]\n",
    "# Sort the feature importances by most important first\n",
    "feature_importances = sorted(feature_importances, key = lambda x: x[1], reverse = True)\n",
    "# Print out the feature and importances \n",
    "[print('Variable: {:20} Importance: {}'.format(*pair)) for pair in feature_importances];"
   ]
  },
  {
   "cell_type": "code",
   "execution_count": null,
   "metadata": {},
   "outputs": [],
   "source": []
  },
  {
   "cell_type": "code",
   "execution_count": null,
   "metadata": {},
   "outputs": [],
   "source": []
  }
 ],
 "metadata": {
  "kernelspec": {
   "display_name": "Python 3",
   "language": "python",
   "name": "python3"
  },
  "language_info": {
   "codemirror_mode": {
    "name": "ipython",
    "version": 3
   },
   "file_extension": ".py",
   "mimetype": "text/x-python",
   "name": "python",
   "nbconvert_exporter": "python",
   "pygments_lexer": "ipython3",
   "version": "3.7.3"
  }
 },
 "nbformat": 4,
 "nbformat_minor": 2
}
